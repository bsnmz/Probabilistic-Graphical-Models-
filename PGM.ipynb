{
 "cells": [
  {
   "cell_type": "markdown",
   "metadata": {},
   "source": [
    "## Probabilistic Graphical Models"
   ]
  },
  {
   "cell_type": "markdown",
   "metadata": {},
   "source": [
    "Probabilistic graphical models (PGM) are statistical models that represents complex joint multivariable probability distrubitions using graphs over random variables by exploiting conditional independencies between the variables. Each graphical model is characterized by a graph structure and a set of parameters associated with each graph. A graph G = (V,A) consists of a nonempty set V of nodes or vertices and a finite (but possibly empty) set A of pairs of vertices called arcs, links, or edges (ithaf gerekli  Nagarajan bayesian networks in r). There are two types of PGMs: Directed Graphical Models (DGM) and Undirected Graphical Models (UGM). Most popular example for DGMs is Bayesian Networks (BN), and Markov Random Fields (MRF) are also one of the most known examples for UGM."
   ]
  },
  {
   "cell_type": "markdown",
   "metadata": {},
   "source": [
    "### Directed Graphical Models\n",
    "Graph models that have directed edges between their nodes that served as random variables are called Directed Graphical Models. Influence of one random variable on another is determined by direction of the edges. Furthermore, if the graph does not contain a cycle between its nodes it is referred as Directed Acyclic Graph (DAG). "
   ]
  },
  {
   "cell_type": "code",
   "execution_count": 1,
   "metadata": {},
   "outputs": [
    {
     "data": {
      "text/plain": [
       "pgmpy.base.DAG.DAG"
      ]
     },
     "execution_count": 1,
     "metadata": {},
     "output_type": "execute_result"
    }
   ],
   "source": [
    "from pgmpy.base import DAG\n",
    "G = DAG()\n",
    "type(G)"
   ]
  },
  {
   "cell_type": "markdown",
   "metadata": {},
   "source": []
  }
 ],
 "metadata": {
  "kernelspec": {
   "display_name": "Python 3.9.7 ('base')",
   "language": "python",
   "name": "python3"
  },
  "language_info": {
   "codemirror_mode": {
    "name": "ipython",
    "version": 3
   },
   "file_extension": ".py",
   "mimetype": "text/x-python",
   "name": "python",
   "nbconvert_exporter": "python",
   "pygments_lexer": "ipython3",
   "version": "3.9.7"
  },
  "orig_nbformat": 4,
  "vscode": {
   "interpreter": {
    "hash": "c28da407b5413b3940d87ecdae5ea8ce0c2929d84f560e9f5daaaa2573d53e68"
   }
  }
 },
 "nbformat": 4,
 "nbformat_minor": 2
}
